{
 "cells": [
  {
   "cell_type": "markdown",
   "metadata": {},
   "source": [
    "# Multiples simulations de recaptures et effet de la taille de l'échantillon"
   ]
  },
  {
   "cell_type": "markdown",
   "metadata": {},
   "source": [
    "Modules utiles pour les représentations graphiques et la génération de nombres aléatoires :"
   ]
  },
  {
   "cell_type": "code",
   "execution_count": null,
   "metadata": {},
   "outputs": [],
   "source": [
    "%matplotlib inline\n",
    "import matplotlib.pyplot as plt\n",
    "import random\n",
    "from math import sqrt"
   ]
  },
  {
   "cell_type": "markdown",
   "metadata": {},
   "source": [
    "## Initialisation des variables\n",
    "Génération de la population totale dans la variable `pop_totale` : un nombre aléatoire entre 1000 et 7000. <br/>\n",
    "Nombre d'individus marqués lors de la première capture, dans la variable `marques`."
   ]
  },
  {
   "cell_type": "code",
   "execution_count": null,
   "metadata": {},
   "outputs": [],
   "source": [
    "pop_totale = random.randint(1000,7000)\n",
    "marques = 900"
   ]
  },
  {
   "cell_type": "markdown",
   "metadata": {},
   "source": [
    "## Phase de Capture - Marquage\n",
    "La fonction ci-dessous correspond à la phase de **Capture-Marquage** :<br/>\n",
    "On représente une sous-population marquée par une liste de M nombres égaux à 1. <br/>\n",
    "On représente le reste de la population non marquée par une liste de N-M nombres égaux à 0.<br/>\n",
    "On concatène les deux listes ci-dessus : on obtient une liste de N individus dont les M premiers sont marqués.<br/>\n",
    "Cette liste est renvoyée par la fonction `creer_population_marquee`."
   ]
  },
  {
   "cell_type": "code",
   "execution_count": null,
   "metadata": {},
   "outputs": [],
   "source": [
    "def creer_population_marquee(N, M):\n",
    "    m0 = [1]*M\n",
    "    m1 = [0]*(N-M)\n",
    "    popu = m0+m1\n",
    "    return popu"
   ]
  },
  {
   "cell_type": "markdown",
   "metadata": {},
   "source": [
    "## Phase de Recapture \n",
    "On mélange la liste obtenue par la fonction `creer_population_marquee` : les $n$ premiers éléments de cette liste constituent un échantillon de taille $n$ de cette population.<br/>\n",
    "La fonction `prelever_echantillon` renvoie un échantillon.<br/>\n",
    "Cela correspond à la phase de **recapture**."
   ]
  },
  {
   "cell_type": "code",
   "execution_count": null,
   "metadata": {},
   "outputs": [],
   "source": [
    "def prelever_echantillon(P, n):\n",
    "    random.shuffle(P)\n",
    "    return P[:n]"
   ]
  },
  {
   "cell_type": "markdown",
   "metadata": {},
   "source": [
    "## Simulation de plusieurs échantillons de même taille\n",
    "- Création d'une population marquée\n",
    "- Sur cette population, on simule 100 fois la recapture d'un échantillon de taille **200**\n",
    "- Représentation graphique des fréquences (nombre d'individus marqués/taille de l'échantillon) obtenues"
   ]
  },
  {
   "cell_type": "code",
   "execution_count": null,
   "metadata": {
    "scrolled": true
   },
   "outputs": [],
   "source": [
    "population = creer_population_marquee(pop_totale,marques)"
   ]
  },
  {
   "cell_type": "code",
   "execution_count": null,
   "metadata": {},
   "outputs": [],
   "source": [
    "def multi_echantillon(rep, pop, n):\n",
    "    f = []\n",
    "    for i in range(rep):\n",
    "        echantillon = prelever_echantillon(pop, n)\n",
    "        f.append(sum(echantillon)/len(echantillon))\n",
    "    return f"
   ]
  },
  {
   "cell_type": "code",
   "execution_count": null,
   "metadata": {},
   "outputs": [],
   "source": [
    "x = list(range(100))\n",
    "freq_simul = multi_echantillon(100, population, 200)"
   ]
  },
  {
   "cell_type": "code",
   "execution_count": null,
   "metadata": {},
   "outputs": [],
   "source": [
    "ymin = min(freq_simul) \n",
    "ymax = max(freq_simul)"
   ]
  },
  {
   "cell_type": "code",
   "execution_count": null,
   "metadata": {},
   "outputs": [],
   "source": [
    "plt.figure(figsize = (10, 5))\n",
    "plt.ylim(ymin - 0.05, ymax + 0.05)\n",
    "plt.xlabel(\"échantillons de taille 200\")\n",
    "plt.ylabel(\"fréquence obtenue par l'échantillon simulé\")\n",
    "plt.scatter(x, freq_simul, s=10)\n",
    "#plt.show()\n",
    "plt.savefig('simul200.png', dpi = 600)"
   ]
  },
  {
   "cell_type": "markdown",
   "metadata": {},
   "source": [
    "## Simulation de 100 recaptures pour des échantillons de taille 200, puis 600 et 1000"
   ]
  },
  {
   "cell_type": "markdown",
   "metadata": {},
   "source": [
    "On simule 100 fois une recapture d'un échantillon de 200 individus, puis 100 fois une recapture d'un échantillon de 600 et à nouveau 100 fois une recapture d'un échantillon de 1000 individus.<br/>\n",
    "On représente ensuite graphiquement les 100 simulations dans les trois cas."
   ]
  },
  {
   "cell_type": "code",
   "execution_count": null,
   "metadata": {},
   "outputs": [],
   "source": [
    "list_freq_simul = [multi_echantillon(100, population, 200 + 400 * i) for i in range(3)]"
   ]
  },
  {
   "cell_type": "code",
   "execution_count": null,
   "metadata": {},
   "outputs": [],
   "source": [
    "ymin = min([min(list_freq_simul[i]) for i in range(3)])\n",
    "ymax = max([max(list_freq_simul[i]) for i in range(3)])"
   ]
  },
  {
   "cell_type": "code",
   "execution_count": null,
   "metadata": {},
   "outputs": [],
   "source": [
    "p = [marques/pop_totale]*100\n",
    "\n",
    "plt.figure(figsize = (18, 5))\n",
    "for i in range(3):\n",
    "    bi = [marques/pop_totale-1/sqrt(200+400*i)]*100\n",
    "    bs = [marques/pop_totale+1/sqrt(200+400*i)]*100\n",
    "    plt.subplot(1, 3, i+1)\n",
    "    plt.ylim(ymin - 0.05, ymax + 0.05)\n",
    "    plt.xlabel(\"échantillons de taille {}\".format(200+400*i))\n",
    "    plt.ylabel(\"fréq. obtenue par l'échantillon simulé\")\n",
    "    plt.scatter(x, list_freq_simul[i], s=10)\n",
    "    plt.plot(x, p, 'g--')\n",
    "    plt.plot(x, bi, '--', color = 'orange')\n",
    "    plt.plot(x, bs, '--', color = 'orange')\n",
    "#plt.show()\n",
    "plt.savefig('simul_multiple.png', dpi = 600)"
   ]
  },
  {
   "cell_type": "markdown",
   "metadata": {},
   "source": [
    "## Représentation des intervalles de confiance"
   ]
  },
  {
   "cell_type": "markdown",
   "metadata": {},
   "source": [
    "Pour chaque échantillon, on détermine un intervalle de confiance à 95 % permettant d'encadrer la véritable proportion.<br/>\n",
    "Pour chaque fréquence $f$, sur un échantillon de taille $n$, un intervalle de confiance, au niveau de 95%, est: $$\\left[ f-\\frac{1}{\\sqrt{n}};f+\\frac{1}{\\sqrt{n}}\\right]$$\n",
    "Pour chaque fréquence de chaque échantillon, on trace l'intervalle de confiance correspondant.<br/>\n",
    "Plus $n$ est grand, plus l'intervalle de confiance est étroit."
   ]
  },
  {
   "cell_type": "code",
   "execution_count": null,
   "metadata": {},
   "outputs": [],
   "source": [
    "demi_ampli_confiance = [[1/sqrt(200+400*i)] * 100 for i in range(3)]"
   ]
  },
  {
   "cell_type": "code",
   "execution_count": null,
   "metadata": {},
   "outputs": [],
   "source": [
    "plt.figure(figsize = (18, 12))\n",
    "for i in range(3):\n",
    "    plt.subplot(3, 1, i+1)\n",
    "    plt.ylim(ymin-0.075, ymax+0.075)\n",
    "    plt.xlabel(\"échantillons de taille {}\".format(200+400*i))\n",
    "    plt.ylabel(\"fréq. obtenue par l'échantillon simulé\")\n",
    "    plt.scatter(x, list_freq_simul[i], s=14)\n",
    "    plt.errorbar(x, list_freq_simul[i], yerr = demi_ampli_confiance[i], fmt = 'none', capsize = 4, errorevery = 1, ecolor = 'red')\n",
    "#plt.show()\n",
    "plt.savefig('simul_multiple_confiance.png', dpi = 600)"
   ]
  },
  {
   "cell_type": "markdown",
   "metadata": {},
   "source": [
    "## La proportion théorique est presque toujours dans l'intervalle de confiance"
   ]
  },
  {
   "cell_type": "markdown",
   "metadata": {},
   "source": [
    "La population totale est contenue dans la variable `pop_totale` et le nombre d'individus marqués dans `marques`. La proportion d'individus marqués est le quotient de ces deux valeurs."
   ]
  },
  {
   "cell_type": "code",
   "execution_count": null,
   "metadata": {},
   "outputs": [],
   "source": [
    "marques/pop_totale"
   ]
  },
  {
   "cell_type": "markdown",
   "metadata": {},
   "source": [
    "On ajoute cette valeur (ligne pointillée) aux représentations graphiques ci-dessus pour observer que cette proportion appartient presque toujours aux intervalles de confiance."
   ]
  },
  {
   "cell_type": "code",
   "execution_count": null,
   "metadata": {},
   "outputs": [],
   "source": [
    "p = [marques/pop_totale]*100\n",
    "\n",
    "plt.figure(figsize = (18, 12))\n",
    "for i in range(3):\n",
    "    plt.subplot(3, 1, i+1)\n",
    "    plt.ylim(ymin-0.075, ymax+0.075)\n",
    "    plt.xlabel(\"échantillons de taille {}\".format(200+400*i))\n",
    "    plt.ylabel(\"fréq. obtenue par l'échantillon simulé\")\n",
    "    plt.scatter(x, list_freq_simul[i], s=14)\n",
    "    plt.plot(x, p, 'g--')\n",
    "    plt.errorbar(x, list_freq_simul[i], yerr = demi_ampli_confiance[i], fmt = 'none', capsize = 4, errorevery = 1, ecolor = 'red')\n",
    "#plt.show()\n",
    "plt.savefig('simul_multiple_confiance_theorie.png', dpi = 600)"
   ]
  },
  {
   "cell_type": "code",
   "execution_count": null,
   "metadata": {},
   "outputs": [],
   "source": []
  },
  {
   "cell_type": "code",
   "execution_count": null,
   "metadata": {},
   "outputs": [],
   "source": []
  }
 ],
 "metadata": {
  "kernelspec": {
   "display_name": "Python 3",
   "language": "python",
   "name": "python3"
  },
  "language_info": {
   "codemirror_mode": {
    "name": "ipython",
    "version": 3
   },
   "file_extension": ".py",
   "mimetype": "text/x-python",
   "name": "python",
   "nbconvert_exporter": "python",
   "pygments_lexer": "ipython3",
   "version": "3.8.5"
  }
 },
 "nbformat": 4,
 "nbformat_minor": 2
}
